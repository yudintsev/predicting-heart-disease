{
 "cells": [
  {
   "cell_type": "markdown",
   "metadata": {},
   "source": [
    "First, let's change directory to the data folder:"
   ]
  },
  {
   "cell_type": "code",
   "execution_count": 1,
   "metadata": {},
   "outputs": [],
   "source": [
    "import os\n",
    "\n",
    "os.chdir('/Users/Georgiy/Documents/Data Challenge')"
   ]
  },
  {
   "cell_type": "markdown",
   "metadata": {},
   "source": [
    "Second, check the contents of the \"Data Challenge\" folder:"
   ]
  },
  {
   "cell_type": "code",
   "execution_count": 2,
   "metadata": {},
   "outputs": [
    {
     "name": "stdout",
     "output_type": "stream",
     "text": [
      "Yudintsev_HD_Data_Challenge_05_14_2019.html\r\n",
      "data_challenge.csv\r\n",
      "data_info.txt\r\n"
     ]
    }
   ],
   "source": [
    "ls"
   ]
  },
  {
   "cell_type": "markdown",
   "metadata": {},
   "source": [
    "Third, import python modules for data cleaning and wrangling (numpy, pandas), basic statistics (scipy.stats), and creating plots (pylab, matplotlib, matplotlib.pyplot):"
   ]
  },
  {
   "cell_type": "code",
   "execution_count": 3,
   "metadata": {},
   "outputs": [],
   "source": [
    "import numpy as np\n",
    "import pandas as pd\n",
    "import pylab as plt\n",
    "\n",
    "import scipy.stats\n",
    "\n",
    "import matplotlib\n",
    "import matplotlib.pyplot as pp\n",
    "\n",
    "%matplotlib inline"
   ]
  },
  {
   "cell_type": "markdown",
   "metadata": {},
   "source": [
    "Read the data frame:"
   ]
  },
  {
   "cell_type": "code",
   "execution_count": 4,
   "metadata": {},
   "outputs": [],
   "source": [
    "df = pd.read_csv('data_challenge.csv')"
   ]
  },
  {
   "cell_type": "markdown",
   "metadata": {},
   "source": [
    "Now, let's take a quick summary look at the table:"
   ]
  },
  {
   "cell_type": "code",
   "execution_count": 5,
   "metadata": {},
   "outputs": [
    {
     "name": "stdout",
     "output_type": "stream",
     "text": [
      "<class 'pandas.core.frame.DataFrame'>\n",
      "RangeIndex: 303 entries, 0 to 302\n",
      "Data columns (total 14 columns):\n",
      "age                303 non-null int64\n",
      "gender             303 non-null int64\n",
      "chest_pain         303 non-null int64\n",
      "restbp             303 non-null int64\n",
      "cholestoral        303 non-null int64\n",
      "high_fbs           303 non-null int64\n",
      "EKG                303 non-null int64\n",
      "thalachmax         303 non-null int64\n",
      "angina_exercise    303 non-null int64\n",
      "oldpeakST          303 non-null float64\n",
      "slope              303 non-null int64\n",
      "flouroscopy        303 non-null int64\n",
      "thal               303 non-null int64\n",
      "response           303 non-null int64\n",
      "dtypes: float64(1), int64(13)\n",
      "memory usage: 33.2 KB\n"
     ]
    }
   ],
   "source": [
    "df.info()"
   ]
  },
  {
   "cell_type": "markdown",
   "metadata": {},
   "source": [
    "The data frame contains 303 observations, there are no missing values in the data."
   ]
  },
  {
   "cell_type": "markdown",
   "metadata": {},
   "source": [
    "Take a look at the first 10 rows of the dataframe:"
   ]
  },
  {
   "cell_type": "code",
   "execution_count": 6,
   "metadata": {},
   "outputs": [
    {
     "data": {
      "text/html": [
       "<div>\n",
       "<style scoped>\n",
       "    .dataframe tbody tr th:only-of-type {\n",
       "        vertical-align: middle;\n",
       "    }\n",
       "\n",
       "    .dataframe tbody tr th {\n",
       "        vertical-align: top;\n",
       "    }\n",
       "\n",
       "    .dataframe thead th {\n",
       "        text-align: right;\n",
       "    }\n",
       "</style>\n",
       "<table border=\"1\" class=\"dataframe\">\n",
       "  <thead>\n",
       "    <tr style=\"text-align: right;\">\n",
       "      <th></th>\n",
       "      <th>age</th>\n",
       "      <th>gender</th>\n",
       "      <th>chest_pain</th>\n",
       "      <th>restbp</th>\n",
       "      <th>cholestoral</th>\n",
       "      <th>high_fbs</th>\n",
       "      <th>EKG</th>\n",
       "      <th>thalachmax</th>\n",
       "      <th>angina_exercise</th>\n",
       "      <th>oldpeakST</th>\n",
       "      <th>slope</th>\n",
       "      <th>flouroscopy</th>\n",
       "      <th>thal</th>\n",
       "      <th>response</th>\n",
       "    </tr>\n",
       "  </thead>\n",
       "  <tbody>\n",
       "    <tr>\n",
       "      <th>0</th>\n",
       "      <td>63</td>\n",
       "      <td>1</td>\n",
       "      <td>3</td>\n",
       "      <td>145</td>\n",
       "      <td>233</td>\n",
       "      <td>1</td>\n",
       "      <td>0</td>\n",
       "      <td>150</td>\n",
       "      <td>0</td>\n",
       "      <td>2.3</td>\n",
       "      <td>0</td>\n",
       "      <td>0</td>\n",
       "      <td>1</td>\n",
       "      <td>1</td>\n",
       "    </tr>\n",
       "    <tr>\n",
       "      <th>1</th>\n",
       "      <td>37</td>\n",
       "      <td>1</td>\n",
       "      <td>2</td>\n",
       "      <td>130</td>\n",
       "      <td>250</td>\n",
       "      <td>0</td>\n",
       "      <td>1</td>\n",
       "      <td>187</td>\n",
       "      <td>0</td>\n",
       "      <td>3.5</td>\n",
       "      <td>0</td>\n",
       "      <td>0</td>\n",
       "      <td>2</td>\n",
       "      <td>1</td>\n",
       "    </tr>\n",
       "    <tr>\n",
       "      <th>2</th>\n",
       "      <td>41</td>\n",
       "      <td>0</td>\n",
       "      <td>1</td>\n",
       "      <td>130</td>\n",
       "      <td>204</td>\n",
       "      <td>0</td>\n",
       "      <td>0</td>\n",
       "      <td>172</td>\n",
       "      <td>0</td>\n",
       "      <td>1.4</td>\n",
       "      <td>2</td>\n",
       "      <td>0</td>\n",
       "      <td>2</td>\n",
       "      <td>1</td>\n",
       "    </tr>\n",
       "    <tr>\n",
       "      <th>3</th>\n",
       "      <td>56</td>\n",
       "      <td>1</td>\n",
       "      <td>1</td>\n",
       "      <td>120</td>\n",
       "      <td>236</td>\n",
       "      <td>0</td>\n",
       "      <td>1</td>\n",
       "      <td>178</td>\n",
       "      <td>0</td>\n",
       "      <td>0.8</td>\n",
       "      <td>2</td>\n",
       "      <td>0</td>\n",
       "      <td>2</td>\n",
       "      <td>1</td>\n",
       "    </tr>\n",
       "    <tr>\n",
       "      <th>4</th>\n",
       "      <td>57</td>\n",
       "      <td>0</td>\n",
       "      <td>0</td>\n",
       "      <td>120</td>\n",
       "      <td>354</td>\n",
       "      <td>0</td>\n",
       "      <td>1</td>\n",
       "      <td>163</td>\n",
       "      <td>1</td>\n",
       "      <td>0.6</td>\n",
       "      <td>2</td>\n",
       "      <td>0</td>\n",
       "      <td>2</td>\n",
       "      <td>1</td>\n",
       "    </tr>\n",
       "    <tr>\n",
       "      <th>5</th>\n",
       "      <td>57</td>\n",
       "      <td>1</td>\n",
       "      <td>0</td>\n",
       "      <td>140</td>\n",
       "      <td>192</td>\n",
       "      <td>0</td>\n",
       "      <td>1</td>\n",
       "      <td>148</td>\n",
       "      <td>0</td>\n",
       "      <td>0.4</td>\n",
       "      <td>1</td>\n",
       "      <td>0</td>\n",
       "      <td>1</td>\n",
       "      <td>1</td>\n",
       "    </tr>\n",
       "    <tr>\n",
       "      <th>6</th>\n",
       "      <td>56</td>\n",
       "      <td>0</td>\n",
       "      <td>1</td>\n",
       "      <td>140</td>\n",
       "      <td>294</td>\n",
       "      <td>0</td>\n",
       "      <td>0</td>\n",
       "      <td>153</td>\n",
       "      <td>0</td>\n",
       "      <td>1.3</td>\n",
       "      <td>1</td>\n",
       "      <td>0</td>\n",
       "      <td>2</td>\n",
       "      <td>1</td>\n",
       "    </tr>\n",
       "    <tr>\n",
       "      <th>7</th>\n",
       "      <td>44</td>\n",
       "      <td>1</td>\n",
       "      <td>1</td>\n",
       "      <td>120</td>\n",
       "      <td>263</td>\n",
       "      <td>0</td>\n",
       "      <td>1</td>\n",
       "      <td>173</td>\n",
       "      <td>0</td>\n",
       "      <td>0.0</td>\n",
       "      <td>2</td>\n",
       "      <td>0</td>\n",
       "      <td>3</td>\n",
       "      <td>1</td>\n",
       "    </tr>\n",
       "    <tr>\n",
       "      <th>8</th>\n",
       "      <td>52</td>\n",
       "      <td>1</td>\n",
       "      <td>2</td>\n",
       "      <td>172</td>\n",
       "      <td>199</td>\n",
       "      <td>1</td>\n",
       "      <td>1</td>\n",
       "      <td>162</td>\n",
       "      <td>0</td>\n",
       "      <td>0.5</td>\n",
       "      <td>2</td>\n",
       "      <td>0</td>\n",
       "      <td>3</td>\n",
       "      <td>1</td>\n",
       "    </tr>\n",
       "    <tr>\n",
       "      <th>9</th>\n",
       "      <td>57</td>\n",
       "      <td>1</td>\n",
       "      <td>2</td>\n",
       "      <td>150</td>\n",
       "      <td>168</td>\n",
       "      <td>0</td>\n",
       "      <td>1</td>\n",
       "      <td>174</td>\n",
       "      <td>0</td>\n",
       "      <td>1.6</td>\n",
       "      <td>2</td>\n",
       "      <td>0</td>\n",
       "      <td>2</td>\n",
       "      <td>1</td>\n",
       "    </tr>\n",
       "  </tbody>\n",
       "</table>\n",
       "</div>"
      ],
      "text/plain": [
       "   age  gender  chest_pain  restbp  cholestoral  high_fbs  EKG  thalachmax  \\\n",
       "0   63       1           3     145          233         1    0         150   \n",
       "1   37       1           2     130          250         0    1         187   \n",
       "2   41       0           1     130          204         0    0         172   \n",
       "3   56       1           1     120          236         0    1         178   \n",
       "4   57       0           0     120          354         0    1         163   \n",
       "5   57       1           0     140          192         0    1         148   \n",
       "6   56       0           1     140          294         0    0         153   \n",
       "7   44       1           1     120          263         0    1         173   \n",
       "8   52       1           2     172          199         1    1         162   \n",
       "9   57       1           2     150          168         0    1         174   \n",
       "\n",
       "   angina_exercise  oldpeakST  slope  flouroscopy  thal  response  \n",
       "0                0        2.3      0            0     1         1  \n",
       "1                0        3.5      0            0     2         1  \n",
       "2                0        1.4      2            0     2         1  \n",
       "3                0        0.8      2            0     2         1  \n",
       "4                1        0.6      2            0     2         1  \n",
       "5                0        0.4      1            0     1         1  \n",
       "6                0        1.3      1            0     2         1  \n",
       "7                0        0.0      2            0     3         1  \n",
       "8                0        0.5      2            0     3         1  \n",
       "9                0        1.6      2            0     2         1  "
      ]
     },
     "execution_count": 6,
     "metadata": {},
     "output_type": "execute_result"
    }
   ],
   "source": [
    "df.head(10)"
   ]
  },
  {
   "cell_type": "markdown",
   "metadata": {},
   "source": [
    "Let's take a look at the summary statistics of each variable:"
   ]
  },
  {
   "cell_type": "code",
   "execution_count": 7,
   "metadata": {},
   "outputs": [
    {
     "data": {
      "text/html": [
       "<div>\n",
       "<style scoped>\n",
       "    .dataframe tbody tr th:only-of-type {\n",
       "        vertical-align: middle;\n",
       "    }\n",
       "\n",
       "    .dataframe tbody tr th {\n",
       "        vertical-align: top;\n",
       "    }\n",
       "\n",
       "    .dataframe thead th {\n",
       "        text-align: right;\n",
       "    }\n",
       "</style>\n",
       "<table border=\"1\" class=\"dataframe\">\n",
       "  <thead>\n",
       "    <tr style=\"text-align: right;\">\n",
       "      <th></th>\n",
       "      <th>age</th>\n",
       "      <th>gender</th>\n",
       "      <th>chest_pain</th>\n",
       "      <th>restbp</th>\n",
       "      <th>cholestoral</th>\n",
       "      <th>high_fbs</th>\n",
       "      <th>EKG</th>\n",
       "      <th>thalachmax</th>\n",
       "      <th>angina_exercise</th>\n",
       "      <th>oldpeakST</th>\n",
       "      <th>slope</th>\n",
       "      <th>flouroscopy</th>\n",
       "      <th>thal</th>\n",
       "      <th>response</th>\n",
       "    </tr>\n",
       "  </thead>\n",
       "  <tbody>\n",
       "    <tr>\n",
       "      <th>count</th>\n",
       "      <td>303.000000</td>\n",
       "      <td>303.000000</td>\n",
       "      <td>303.000000</td>\n",
       "      <td>303.000000</td>\n",
       "      <td>303.000000</td>\n",
       "      <td>303.000000</td>\n",
       "      <td>303.000000</td>\n",
       "      <td>303.000000</td>\n",
       "      <td>303.000000</td>\n",
       "      <td>303.000000</td>\n",
       "      <td>303.000000</td>\n",
       "      <td>303.000000</td>\n",
       "      <td>303.000000</td>\n",
       "      <td>303.000000</td>\n",
       "    </tr>\n",
       "    <tr>\n",
       "      <th>mean</th>\n",
       "      <td>54.366337</td>\n",
       "      <td>0.683168</td>\n",
       "      <td>0.966997</td>\n",
       "      <td>131.623762</td>\n",
       "      <td>246.264026</td>\n",
       "      <td>0.148515</td>\n",
       "      <td>0.528053</td>\n",
       "      <td>149.646865</td>\n",
       "      <td>0.326733</td>\n",
       "      <td>1.039604</td>\n",
       "      <td>1.399340</td>\n",
       "      <td>0.729373</td>\n",
       "      <td>2.313531</td>\n",
       "      <td>0.544554</td>\n",
       "    </tr>\n",
       "    <tr>\n",
       "      <th>std</th>\n",
       "      <td>9.082101</td>\n",
       "      <td>0.466011</td>\n",
       "      <td>1.032052</td>\n",
       "      <td>17.538143</td>\n",
       "      <td>51.830751</td>\n",
       "      <td>0.356198</td>\n",
       "      <td>0.525860</td>\n",
       "      <td>22.905161</td>\n",
       "      <td>0.469794</td>\n",
       "      <td>1.161075</td>\n",
       "      <td>0.616226</td>\n",
       "      <td>1.022606</td>\n",
       "      <td>0.612277</td>\n",
       "      <td>0.498835</td>\n",
       "    </tr>\n",
       "    <tr>\n",
       "      <th>min</th>\n",
       "      <td>29.000000</td>\n",
       "      <td>0.000000</td>\n",
       "      <td>0.000000</td>\n",
       "      <td>94.000000</td>\n",
       "      <td>126.000000</td>\n",
       "      <td>0.000000</td>\n",
       "      <td>0.000000</td>\n",
       "      <td>71.000000</td>\n",
       "      <td>0.000000</td>\n",
       "      <td>0.000000</td>\n",
       "      <td>0.000000</td>\n",
       "      <td>0.000000</td>\n",
       "      <td>0.000000</td>\n",
       "      <td>0.000000</td>\n",
       "    </tr>\n",
       "    <tr>\n",
       "      <th>25%</th>\n",
       "      <td>47.500000</td>\n",
       "      <td>0.000000</td>\n",
       "      <td>0.000000</td>\n",
       "      <td>120.000000</td>\n",
       "      <td>211.000000</td>\n",
       "      <td>0.000000</td>\n",
       "      <td>0.000000</td>\n",
       "      <td>133.500000</td>\n",
       "      <td>0.000000</td>\n",
       "      <td>0.000000</td>\n",
       "      <td>1.000000</td>\n",
       "      <td>0.000000</td>\n",
       "      <td>2.000000</td>\n",
       "      <td>0.000000</td>\n",
       "    </tr>\n",
       "    <tr>\n",
       "      <th>50%</th>\n",
       "      <td>55.000000</td>\n",
       "      <td>1.000000</td>\n",
       "      <td>1.000000</td>\n",
       "      <td>130.000000</td>\n",
       "      <td>240.000000</td>\n",
       "      <td>0.000000</td>\n",
       "      <td>1.000000</td>\n",
       "      <td>153.000000</td>\n",
       "      <td>0.000000</td>\n",
       "      <td>0.800000</td>\n",
       "      <td>1.000000</td>\n",
       "      <td>0.000000</td>\n",
       "      <td>2.000000</td>\n",
       "      <td>1.000000</td>\n",
       "    </tr>\n",
       "    <tr>\n",
       "      <th>75%</th>\n",
       "      <td>61.000000</td>\n",
       "      <td>1.000000</td>\n",
       "      <td>2.000000</td>\n",
       "      <td>140.000000</td>\n",
       "      <td>274.500000</td>\n",
       "      <td>0.000000</td>\n",
       "      <td>1.000000</td>\n",
       "      <td>166.000000</td>\n",
       "      <td>1.000000</td>\n",
       "      <td>1.600000</td>\n",
       "      <td>2.000000</td>\n",
       "      <td>1.000000</td>\n",
       "      <td>3.000000</td>\n",
       "      <td>1.000000</td>\n",
       "    </tr>\n",
       "    <tr>\n",
       "      <th>max</th>\n",
       "      <td>77.000000</td>\n",
       "      <td>1.000000</td>\n",
       "      <td>3.000000</td>\n",
       "      <td>200.000000</td>\n",
       "      <td>564.000000</td>\n",
       "      <td>1.000000</td>\n",
       "      <td>2.000000</td>\n",
       "      <td>202.000000</td>\n",
       "      <td>1.000000</td>\n",
       "      <td>6.200000</td>\n",
       "      <td>2.000000</td>\n",
       "      <td>4.000000</td>\n",
       "      <td>3.000000</td>\n",
       "      <td>1.000000</td>\n",
       "    </tr>\n",
       "  </tbody>\n",
       "</table>\n",
       "</div>"
      ],
      "text/plain": [
       "              age      gender  chest_pain      restbp  cholestoral  \\\n",
       "count  303.000000  303.000000  303.000000  303.000000   303.000000   \n",
       "mean    54.366337    0.683168    0.966997  131.623762   246.264026   \n",
       "std      9.082101    0.466011    1.032052   17.538143    51.830751   \n",
       "min     29.000000    0.000000    0.000000   94.000000   126.000000   \n",
       "25%     47.500000    0.000000    0.000000  120.000000   211.000000   \n",
       "50%     55.000000    1.000000    1.000000  130.000000   240.000000   \n",
       "75%     61.000000    1.000000    2.000000  140.000000   274.500000   \n",
       "max     77.000000    1.000000    3.000000  200.000000   564.000000   \n",
       "\n",
       "         high_fbs         EKG  thalachmax  angina_exercise   oldpeakST  \\\n",
       "count  303.000000  303.000000  303.000000       303.000000  303.000000   \n",
       "mean     0.148515    0.528053  149.646865         0.326733    1.039604   \n",
       "std      0.356198    0.525860   22.905161         0.469794    1.161075   \n",
       "min      0.000000    0.000000   71.000000         0.000000    0.000000   \n",
       "25%      0.000000    0.000000  133.500000         0.000000    0.000000   \n",
       "50%      0.000000    1.000000  153.000000         0.000000    0.800000   \n",
       "75%      0.000000    1.000000  166.000000         1.000000    1.600000   \n",
       "max      1.000000    2.000000  202.000000         1.000000    6.200000   \n",
       "\n",
       "            slope  flouroscopy        thal    response  \n",
       "count  303.000000   303.000000  303.000000  303.000000  \n",
       "mean     1.399340     0.729373    2.313531    0.544554  \n",
       "std      0.616226     1.022606    0.612277    0.498835  \n",
       "min      0.000000     0.000000    0.000000    0.000000  \n",
       "25%      1.000000     0.000000    2.000000    0.000000  \n",
       "50%      1.000000     0.000000    2.000000    1.000000  \n",
       "75%      2.000000     1.000000    3.000000    1.000000  \n",
       "max      2.000000     4.000000    3.000000    1.000000  "
      ]
     },
     "execution_count": 7,
     "metadata": {},
     "output_type": "execute_result"
    }
   ],
   "source": [
    "df.describe()"
   ]
  },
  {
   "cell_type": "markdown",
   "metadata": {},
   "source": [
    "Information about the variables:   \n",
    "1. **age** - age in years  \n",
    "2. **gender** - *(1 = male; 0 = female)*  \n",
    "3. **chest_pain** - chest pain type *(ordered categorical)*  \n",
    "4. **Restbp** - blood pressure *(in mm Hg on admission to the hospital)*  \n",
    "5. **cholestoral** - cholestoral in mg/dl *(cholesterol level)*  \n",
    "6. **High_fbs** - is fasting blood sugar > 120 mg/dl ? *(0 or 1, categorical, blood sugar level)*  \n",
    "7. **EKG** - electrocardiographic results *(0 or 1, categorical)*  \n",
    "8. **thalachmax** - heart rate achieved *(heart rate)* \n",
    "9. **angina_exercise** - induced angina *(1 = yes; 0 = no)*  \n",
    "10. **oldpeakST** - depression induced by exercise relative to rest *(continuous)*  \n",
    "11. **slope** - the slope of the peak exercise ST segment  \n",
    "12. **flour_results** - number of major vessels (0-3) colored by flouroscopy  \n",
    "13. **thal** - 3 = normal; 6 = fixed defect; 7 = reversable defect *(what does 1, 2, 3 mean?)*  \n",
    "14. **Response** - 1 or 0 ; 0 being absence of heart disease *(categorical, 0 = no HD, 1 = HD)*  "
   ]
  },
  {
   "cell_type": "markdown",
   "metadata": {},
   "source": [
    "**Intermediate Conclusion 1:**  \n",
    "The data set contains a number of continuous and categorical variables, and no missing values (however, a more detailed look at each variable needs to be taken to ensure that the data entry makes sense and that there aren't any uninterpretable values). A potentially important direction to go would be finding out how well the data might predict the presense or absense of heart disease. Whether the data predicts heart diseases or not might be important for helping a physicians or other health providers make a correct clinical diagnosis."
   ]
  },
  {
   "cell_type": "code",
   "execution_count": 8,
   "metadata": {},
   "outputs": [
    {
     "name": "stdout",
     "output_type": "stream",
     "text": [
      "1    207\n",
      "0     96\n",
      "Name: gender, dtype: int64 \n",
      "\n",
      "0    143\n",
      "2     87\n",
      "1     50\n",
      "3     23\n",
      "Name: chest_pain, dtype: int64 \n",
      "\n",
      "0    258\n",
      "1     45\n",
      "Name: high_fbs, dtype: int64 \n",
      "\n"
     ]
    }
   ],
   "source": [
    "gender_count = df['gender'].value_counts()\n",
    "chest_pain_count = df['chest_pain'].value_counts()\n",
    "fasting_blood_sugar = df['high_fbs'].value_counts()\n",
    "\n",
    "print(gender_count,'\\n')\n",
    "print(chest_pain_count,'\\n')\n",
    "print(fasting_blood_sugar,'\\n')"
   ]
  },
  {
   "cell_type": "code",
   "execution_count": 9,
   "metadata": {},
   "outputs": [
    {
     "name": "stdout",
     "output_type": "stream",
     "text": [
      "1    152\n",
      "0    147\n",
      "2      4\n",
      "Name: EKG, dtype: int64 \n",
      "\n",
      "0    204\n",
      "1     99\n",
      "Name: angina_exercise, dtype: int64 \n",
      "\n",
      "1    165\n",
      "0    138\n",
      "Name: response, dtype: int64 \n",
      "\n"
     ]
    }
   ],
   "source": [
    "EKG_count = df['EKG'].value_counts()\n",
    "angina_exercise_count = df['angina_exercise'].value_counts()\n",
    "heart_disease_count = df['response'].value_counts()\n",
    "\n",
    "print(EKG_count,'\\n')\n",
    "print(angina_exercise_count,'\\n')\n",
    "print(heart_disease_count,'\\n')"
   ]
  },
  {
   "cell_type": "markdown",
   "metadata": {},
   "source": [
    "Plot the nominal and ordered categorical variables as bar plots for:\n",
    "1. gender  \n",
    "2. chest_pain  \n",
    "3. high_fbs  \n",
    "4. EKG  \n",
    "5. angina_exercise  \n",
    "6. response (a.k.a. Heart Disease)  "
   ]
  },
  {
   "cell_type": "code",
   "execution_count": 10,
   "metadata": {},
   "outputs": [
    {
     "data": {
      "text/plain": [
       "(-0.5, 1.5, 0, 200)"
      ]
     },
     "execution_count": 10,
     "metadata": {},
     "output_type": "execute_result"
    },
    {
     "data": {
      "image/png": "[encoded data removed]",
      "text/plain": [
       "<Figure size 1008x360 with 3 Axes>"
      ]
     },
     "metadata": {
      "needs_background": "light"
     },
     "output_type": "display_data"
    },
    {
     "data": {
      "image/png": "[encoded data removed]",
      "text/plain": [
       "<Figure size 1008x360 with 3 Axes>"
      ]
     },
     "metadata": {
      "needs_background": "light"
     },
     "output_type": "display_data"
    }
   ],
   "source": [
    "pp.figure(1, figsize = (14, 5))\n",
    "\n",
    "pp.subplot(131)\n",
    "gender_count.plot(kind = 'bar', fontsize = 14)\n",
    "pp.xticks(np.arange(2), labels = ('male', 'female'))\n",
    "pp.title('Gender count', fontsize = 20)\n",
    "pp.axis(ymin = 0, ymax = 250)\n",
    "\n",
    "pp.subplot(132)\n",
    "chest_pain_count.plot(kind = 'bar', fontsize = 14)\n",
    "# pp.xticks(np.arange(2), labels = ('male', 'female'))\n",
    "pp.title('Chest pain type', fontsize = 20)\n",
    "pp.axis(ymin = 0, ymax = 175)\n",
    "\n",
    "pp.subplot(133)\n",
    "fasting_blood_sugar.plot(kind = 'bar', fontsize = 14)\n",
    "pp.xticks(np.arange(2), labels = ('> 120 mg/dl', '< 120 mg/dl'))\n",
    "pp.title('Fasting sugar level', fontsize = 20)\n",
    "pp.axis(ymin = 0, ymax = 300)\n",
    "\n",
    "\n",
    "\n",
    "pp.figure(2, figsize = (14, 5))\n",
    "\n",
    "pp.subplot(131)\n",
    "EKG_count.plot(kind = 'bar', fontsize = 14)\n",
    "# pp.xticks(np.arange(2), labels = ('male', 'female'))\n",
    "pp.title('EKG type', fontsize = 20)\n",
    "pp.axis(ymin = 0, ymax = 200)\n",
    "\n",
    "pp.subplot(132)\n",
    "angina_exercise_count.plot(kind = 'bar', fontsize = 14)\n",
    "pp.xticks(np.arange(2), labels = ('No', 'Yes'))\n",
    "pp.title('Angina', fontsize = 20)\n",
    "pp.axis(ymin = 0, ymax = 250)\n",
    "\n",
    "pp.subplot(133)\n",
    "heart_disease_count.plot(kind = 'bar', fontsize = 14)\n",
    "pp.xticks(np.arange(2), labels = ('HD', 'No HD'))\n",
    "pp.title('Heart disease', fontsize = 20)\n",
    "pp.axis(ymin = 0, ymax = 200)"
   ]
  },
  {
   "cell_type": "markdown",
   "metadata": {},
   "source": [
    "**Intermediate Conclusion 2:**  \n",
    "Certain categories are unballanced, which could be a problem, especially in case when we are interested in predicting the outcome of those categories. The problem of unbalanced classes would need to be dealt with to improve recall of responses from small classes. There are several ways to deal with unbalanced data: downsampling of larger classes, upsampling of smaller classes, SMOTE techniques. However, collecting more data, whenever possible, would usually be the best solution.   \n",
    "   \n",
    "*The Heart Diseases categories are fairly balanced, therefore, modeling the prediction for heart diseases should not run into the problems due to extreme class imbalance.*"
   ]
  },
  {
   "cell_type": "markdown",
   "metadata": {},
   "source": [
    "Plot the remaining continuous variables as histograms:"
   ]
  },
  {
   "cell_type": "code",
   "execution_count": 11,
   "metadata": {},
   "outputs": [
    {
     "name": "stdout",
     "output_type": "stream",
     "text": [
      "2    142\n",
      "1    140\n",
      "0     21\n",
      "Name: slope, dtype: int64 \n",
      "\n",
      "0    175\n",
      "1     65\n",
      "2     38\n",
      "3     20\n",
      "4      5\n",
      "Name: flouroscopy, dtype: int64 \n",
      "\n",
      "2    166\n",
      "3    117\n",
      "1     18\n",
      "0      2\n",
      "Name: thal, dtype: int64 \n",
      "\n"
     ]
    }
   ],
   "source": [
    "Slope_count = df['slope'].value_counts()\n",
    "Fluoroscopy_count = df['flouroscopy'].value_counts()\n",
    "Thal_count = df['thal'].value_counts()\n",
    "\n",
    "print(Slope_count,'\\n')\n",
    "print(Fluoroscopy_count,'\\n')\n",
    "print(Thal_count,'\\n')"
   ]
  },
  {
   "cell_type": "code",
   "execution_count": 12,
   "metadata": {},
   "outputs": [
    {
     "data": {
      "text/plain": [
       "(-0.5, 3.5, 0, 174.3)"
      ]
     },
     "execution_count": 12,
     "metadata": {},
     "output_type": "execute_result"
    },
    {
     "data": {
      "image/png": "[encoded data removed]",
      "text/plain": [
       "<Figure size 1152x360 with 3 Axes>"
      ]
     },
     "metadata": {
      "needs_background": "light"
     },
     "output_type": "display_data"
    },
    {
     "data": {
      "image/png": "[encoded data removed]",
      "text/plain": [
       "<Figure size 1152x360 with 3 Axes>"
      ]
     },
     "metadata": {
      "needs_background": "light"
     },
     "output_type": "display_data"
    },
    {
     "data": {
      "image/png": "[encoded data removed]",
      "text/plain": [
       "<Figure size 1152x360 with 2 Axes>"
      ]
     },
     "metadata": {
      "needs_background": "light"
     },
     "output_type": "display_data"
    }
   ],
   "source": [
    "pp.figure(3, figsize = (16, 5))\n",
    "\n",
    "pp.subplot(131)\n",
    "df['age'].plot(kind = 'hist', fontsize = 14, bins = 10, color = 'lightseagreen')\n",
    "# pp.xticks(np.arange(2), labels = ('male', 'female'))\n",
    "pp.title('Age Distribution', fontsize = 20)\n",
    "pp.axis(ymin = 0, ymax = 80)\n",
    "\n",
    "pp.subplot(132)\n",
    "df['restbp'].plot(kind = 'hist', fontsize = 14, color = 'coral') #bins = 10)\n",
    "# pp.xticks(np.arange(2), labels = ('male', 'female'))\n",
    "pp.title('Resting blood pressure', fontsize = 20)\n",
    "pp.axis(ymin = 0, ymax = 100)\n",
    "\n",
    "pp.subplot(133)\n",
    "df['cholestoral'].plot(kind = 'hist', fontsize = 14, color = 'chocolate') #bins = 10)\n",
    "# pp.xticks(np.arange(2), labels = ('male', 'female'))\n",
    "pp.title('Cholesterol level', fontsize = 20)\n",
    "pp.axis(ymin = 0, ymax = 120)\n",
    "\n",
    "\n",
    "\n",
    "pp.figure(4, figsize = (16, 5))\n",
    "\n",
    "pp.subplot(131)\n",
    "df['thalachmax'].plot(kind = 'hist', fontsize = 14, bins = 10, color = 'orchid')\n",
    "# pp.xticks(np.arange(2), labels = ('male', 'female'))\n",
    "pp.title('Heart rate achieved', fontsize = 20)\n",
    "pp.axis(ymin = 0, ymax = 100)\n",
    "        \n",
    "pp.subplot(132)\n",
    "df['oldpeakST'].plot(kind = 'hist', fontsize = 14, color = 'tomato') #bins = 10)\n",
    "# pp.xticks(np.arange(2), labels = ('male', 'female'))\n",
    "pp.title('Depression achieved\\n by exercise', fontsize = 20)\n",
    "pp.axis(ymin = 0, ymax = 175)\n",
    "\n",
    "pp.subplot(133)\n",
    "Slope_count.plot(kind = 'bar', fontsize = 14, color = 'yellowgreen') #bins = 10)\n",
    "# pp.xticks(np.arange(2), labels = ('male', 'female'))\n",
    "pp.title('The slope of peak\\n exercise ST', fontsize = 20)\n",
    "pp.axis(ymin = 0, ymax = 175)\n",
    "\n",
    "\n",
    "\n",
    "pp.figure(5, figsize = (16, 5))\n",
    "\n",
    "pp.subplot(131)\n",
    "Fluoroscopy_count.plot(kind = 'bar', fontsize = 14, color = 'orangered')\n",
    "# pp.xticks(np.arange(2), labels = ('male', 'female'))\n",
    "pp.title('Number of blood vessels\\n in fluroscopy', fontsize = 20)\n",
    "pp.axis(ymin = 0)\n",
    "        \n",
    "pp.subplot(132)\n",
    "Thal_count.plot(kind = 'bar', fontsize = 14, color = 'lightcoral') #bins = 10)\n",
    "# pp.xticks(np.arange(2), labels = ('male', 'female'))\n",
    "pp.title('Thal', fontsize = 20)\n",
    "pp.axis(ymin = 0)"
   ]
  },
  {
   "cell_type": "markdown",
   "metadata": {},
   "source": [
    "**Intermediate Conclusion 3:**  \n",
    "Resing blood pressure, cholesterol level and depression achieved by exercise are all right-skewed, while heart rate achieved is slightly left-skewed. The skewdness of the distributions would present a problem if one of these measures were modeled as a response in linear regression, as one of the key assumptions of the linear regression model is normally dirstributed response variable. If we were interested in modeling and predictring resting blood pressure or cholesterol level using linear models, the data would need to be transformed first (box-cox transformations), to satisfy the assumption of normality. \n",
    "\n",
    "**Potential Outliers:**   \n",
    "There might also be some outliers in this data set. It would be important to examine these outliers. Are they a measurement error? Is there something special about those patients? For example a patient with very high cholesterol level. What about the patients with level 6 in 'depression achieved by exercise' test?\n",
    "\n",
    "**Next Steps:**  \n",
    "Below, I would like to look at the correlations between the features in the data set. The presence of strong correlations among predictors in a regression model give rise to the probelm of multicollinearity. The presence of multicollinearity leads to incorrect estimation of coefficients in linear models, for example. After examining the correlations, I would like to try a logistic regression model fit first."
   ]
  },
  {
   "cell_type": "code",
   "execution_count": 13,
   "metadata": {},
   "outputs": [
    {
     "data": {
      "text/html": [
       "<div>\n",
       "<style scoped>\n",
       "    .dataframe tbody tr th:only-of-type {\n",
       "        vertical-align: middle;\n",
       "    }\n",
       "\n",
       "    .dataframe tbody tr th {\n",
       "        vertical-align: top;\n",
       "    }\n",
       "\n",
       "    .dataframe thead th {\n",
       "        text-align: right;\n",
       "    }\n",
       "</style>\n",
       "<table border=\"1\" class=\"dataframe\">\n",
       "  <thead>\n",
       "    <tr style=\"text-align: right;\">\n",
       "      <th></th>\n",
       "      <th>age</th>\n",
       "      <th>gender</th>\n",
       "      <th>chest_pain</th>\n",
       "      <th>restbp</th>\n",
       "      <th>cholestoral</th>\n",
       "      <th>high_fbs</th>\n",
       "      <th>EKG</th>\n",
       "      <th>thalachmax</th>\n",
       "      <th>angina_exercise</th>\n",
       "      <th>oldpeakST</th>\n",
       "      <th>slope</th>\n",
       "      <th>flouroscopy</th>\n",
       "      <th>thal</th>\n",
       "      <th>response</th>\n",
       "    </tr>\n",
       "  </thead>\n",
       "  <tbody>\n",
       "    <tr>\n",
       "      <th>age</th>\n",
       "      <td>1.000000</td>\n",
       "      <td>-0.098447</td>\n",
       "      <td>-0.068653</td>\n",
       "      <td>0.279351</td>\n",
       "      <td>0.213678</td>\n",
       "      <td>0.121308</td>\n",
       "      <td>-0.116211</td>\n",
       "      <td>-0.398522</td>\n",
       "      <td>0.096801</td>\n",
       "      <td>0.210013</td>\n",
       "      <td>-0.168814</td>\n",
       "      <td>0.276326</td>\n",
       "      <td>0.068001</td>\n",
       "      <td>-0.225439</td>\n",
       "    </tr>\n",
       "    <tr>\n",
       "      <th>gender</th>\n",
       "      <td>-0.098447</td>\n",
       "      <td>1.000000</td>\n",
       "      <td>-0.049353</td>\n",
       "      <td>-0.056769</td>\n",
       "      <td>-0.197912</td>\n",
       "      <td>0.045032</td>\n",
       "      <td>-0.058196</td>\n",
       "      <td>-0.044020</td>\n",
       "      <td>0.141664</td>\n",
       "      <td>0.096093</td>\n",
       "      <td>-0.030711</td>\n",
       "      <td>0.118261</td>\n",
       "      <td>0.210041</td>\n",
       "      <td>-0.280937</td>\n",
       "    </tr>\n",
       "    <tr>\n",
       "      <th>chest_pain</th>\n",
       "      <td>-0.068653</td>\n",
       "      <td>-0.049353</td>\n",
       "      <td>1.000000</td>\n",
       "      <td>0.047608</td>\n",
       "      <td>-0.076904</td>\n",
       "      <td>0.094444</td>\n",
       "      <td>0.044421</td>\n",
       "      <td>0.295762</td>\n",
       "      <td>-0.394280</td>\n",
       "      <td>-0.149230</td>\n",
       "      <td>0.119717</td>\n",
       "      <td>-0.181053</td>\n",
       "      <td>-0.161736</td>\n",
       "      <td>0.433798</td>\n",
       "    </tr>\n",
       "    <tr>\n",
       "      <th>restbp</th>\n",
       "      <td>0.279351</td>\n",
       "      <td>-0.056769</td>\n",
       "      <td>0.047608</td>\n",
       "      <td>1.000000</td>\n",
       "      <td>0.123174</td>\n",
       "      <td>0.177531</td>\n",
       "      <td>-0.114103</td>\n",
       "      <td>-0.046698</td>\n",
       "      <td>0.067616</td>\n",
       "      <td>0.193216</td>\n",
       "      <td>-0.121475</td>\n",
       "      <td>0.101389</td>\n",
       "      <td>0.062210</td>\n",
       "      <td>-0.144931</td>\n",
       "    </tr>\n",
       "    <tr>\n",
       "      <th>cholestoral</th>\n",
       "      <td>0.213678</td>\n",
       "      <td>-0.197912</td>\n",
       "      <td>-0.076904</td>\n",
       "      <td>0.123174</td>\n",
       "      <td>1.000000</td>\n",
       "      <td>0.013294</td>\n",
       "      <td>-0.151040</td>\n",
       "      <td>-0.009940</td>\n",
       "      <td>0.067023</td>\n",
       "      <td>0.053952</td>\n",
       "      <td>-0.004038</td>\n",
       "      <td>0.070511</td>\n",
       "      <td>0.098803</td>\n",
       "      <td>-0.085239</td>\n",
       "    </tr>\n",
       "    <tr>\n",
       "      <th>high_fbs</th>\n",
       "      <td>0.121308</td>\n",
       "      <td>0.045032</td>\n",
       "      <td>0.094444</td>\n",
       "      <td>0.177531</td>\n",
       "      <td>0.013294</td>\n",
       "      <td>1.000000</td>\n",
       "      <td>-0.084189</td>\n",
       "      <td>-0.008567</td>\n",
       "      <td>0.025665</td>\n",
       "      <td>0.005747</td>\n",
       "      <td>-0.059894</td>\n",
       "      <td>0.137979</td>\n",
       "      <td>-0.032019</td>\n",
       "      <td>-0.028046</td>\n",
       "    </tr>\n",
       "    <tr>\n",
       "      <th>EKG</th>\n",
       "      <td>-0.116211</td>\n",
       "      <td>-0.058196</td>\n",
       "      <td>0.044421</td>\n",
       "      <td>-0.114103</td>\n",
       "      <td>-0.151040</td>\n",
       "      <td>-0.084189</td>\n",
       "      <td>1.000000</td>\n",
       "      <td>0.044123</td>\n",
       "      <td>-0.070733</td>\n",
       "      <td>-0.058770</td>\n",
       "      <td>0.093045</td>\n",
       "      <td>-0.072042</td>\n",
       "      <td>-0.011981</td>\n",
       "      <td>0.137230</td>\n",
       "    </tr>\n",
       "    <tr>\n",
       "      <th>thalachmax</th>\n",
       "      <td>-0.398522</td>\n",
       "      <td>-0.044020</td>\n",
       "      <td>0.295762</td>\n",
       "      <td>-0.046698</td>\n",
       "      <td>-0.009940</td>\n",
       "      <td>-0.008567</td>\n",
       "      <td>0.044123</td>\n",
       "      <td>1.000000</td>\n",
       "      <td>-0.378812</td>\n",
       "      <td>-0.344187</td>\n",
       "      <td>0.386784</td>\n",
       "      <td>-0.213177</td>\n",
       "      <td>-0.096439</td>\n",
       "      <td>0.421741</td>\n",
       "    </tr>\n",
       "    <tr>\n",
       "      <th>angina_exercise</th>\n",
       "      <td>0.096801</td>\n",
       "      <td>0.141664</td>\n",
       "      <td>-0.394280</td>\n",
       "      <td>0.067616</td>\n",
       "      <td>0.067023</td>\n",
       "      <td>0.025665</td>\n",
       "      <td>-0.070733</td>\n",
       "      <td>-0.378812</td>\n",
       "      <td>1.000000</td>\n",
       "      <td>0.288223</td>\n",
       "      <td>-0.257748</td>\n",
       "      <td>0.115739</td>\n",
       "      <td>0.206754</td>\n",
       "      <td>-0.436757</td>\n",
       "    </tr>\n",
       "    <tr>\n",
       "      <th>oldpeakST</th>\n",
       "      <td>0.210013</td>\n",
       "      <td>0.096093</td>\n",
       "      <td>-0.149230</td>\n",
       "      <td>0.193216</td>\n",
       "      <td>0.053952</td>\n",
       "      <td>0.005747</td>\n",
       "      <td>-0.058770</td>\n",
       "      <td>-0.344187</td>\n",
       "      <td>0.288223</td>\n",
       "      <td>1.000000</td>\n",
       "      <td>-0.577537</td>\n",
       "      <td>0.222682</td>\n",
       "      <td>0.210244</td>\n",
       "      <td>-0.430696</td>\n",
       "    </tr>\n",
       "    <tr>\n",
       "      <th>slope</th>\n",
       "      <td>-0.168814</td>\n",
       "      <td>-0.030711</td>\n",
       "      <td>0.119717</td>\n",
       "      <td>-0.121475</td>\n",
       "      <td>-0.004038</td>\n",
       "      <td>-0.059894</td>\n",
       "      <td>0.093045</td>\n",
       "      <td>0.386784</td>\n",
       "      <td>-0.257748</td>\n",
       "      <td>-0.577537</td>\n",
       "      <td>1.000000</td>\n",
       "      <td>-0.080155</td>\n",
       "      <td>-0.104764</td>\n",
       "      <td>0.345877</td>\n",
       "    </tr>\n",
       "    <tr>\n",
       "      <th>flouroscopy</th>\n",
       "      <td>0.276326</td>\n",
       "      <td>0.118261</td>\n",
       "      <td>-0.181053</td>\n",
       "      <td>0.101389</td>\n",
       "      <td>0.070511</td>\n",
       "      <td>0.137979</td>\n",
       "      <td>-0.072042</td>\n",
       "      <td>-0.213177</td>\n",
       "      <td>0.115739</td>\n",
       "      <td>0.222682</td>\n",
       "      <td>-0.080155</td>\n",
       "      <td>1.000000</td>\n",
       "      <td>0.151832</td>\n",
       "      <td>-0.391724</td>\n",
       "    </tr>\n",
       "    <tr>\n",
       "      <th>thal</th>\n",
       "      <td>0.068001</td>\n",
       "      <td>0.210041</td>\n",
       "      <td>-0.161736</td>\n",
       "      <td>0.062210</td>\n",
       "      <td>0.098803</td>\n",
       "      <td>-0.032019</td>\n",
       "      <td>-0.011981</td>\n",
       "      <td>-0.096439</td>\n",
       "      <td>0.206754</td>\n",
       "      <td>0.210244</td>\n",
       "      <td>-0.104764</td>\n",
       "      <td>0.151832</td>\n",
       "      <td>1.000000</td>\n",
       "      <td>-0.344029</td>\n",
       "    </tr>\n",
       "    <tr>\n",
       "      <th>response</th>\n",
       "      <td>-0.225439</td>\n",
       "      <td>-0.280937</td>\n",
       "      <td>0.433798</td>\n",
       "      <td>-0.144931</td>\n",
       "      <td>-0.085239</td>\n",
       "      <td>-0.028046</td>\n",
       "      <td>0.137230</td>\n",
       "      <td>0.421741</td>\n",
       "      <td>-0.436757</td>\n",
       "      <td>-0.430696</td>\n",
       "      <td>0.345877</td>\n",
       "      <td>-0.391724</td>\n",
       "      <td>-0.344029</td>\n",
       "      <td>1.000000</td>\n",
       "    </tr>\n",
       "  </tbody>\n",
       "</table>\n",
       "</div>"
      ],
      "text/plain": [
       "                      age    gender  chest_pain    restbp  cholestoral  \\\n",
       "age              1.000000 -0.098447   -0.068653  0.279351     0.213678   \n",
       "gender          -0.098447  1.000000   -0.049353 -0.056769    -0.197912   \n",
       "chest_pain      -0.068653 -0.049353    1.000000  0.047608    -0.076904   \n",
       "restbp           0.279351 -0.056769    0.047608  1.000000     0.123174   \n",
       "cholestoral      0.213678 -0.197912   -0.076904  0.123174     1.000000   \n",
       "high_fbs         0.121308  0.045032    0.094444  0.177531     0.013294   \n",
       "EKG             -0.116211 -0.058196    0.044421 -0.114103    -0.151040   \n",
       "thalachmax      -0.398522 -0.044020    0.295762 -0.046698    -0.009940   \n",
       "angina_exercise  0.096801  0.141664   -0.394280  0.067616     0.067023   \n",
       "oldpeakST        0.210013  0.096093   -0.149230  0.193216     0.053952   \n",
       "slope           -0.168814 -0.030711    0.119717 -0.121475    -0.004038   \n",
       "flouroscopy      0.276326  0.118261   -0.181053  0.101389     0.070511   \n",
       "thal             0.068001  0.210041   -0.161736  0.062210     0.098803   \n",
       "response        -0.225439 -0.280937    0.433798 -0.144931    -0.085239   \n",
       "\n",
       "                 high_fbs       EKG  thalachmax  angina_exercise  oldpeakST  \\\n",
       "age              0.121308 -0.116211   -0.398522         0.096801   0.210013   \n",
       "gender           0.045032 -0.058196   -0.044020         0.141664   0.096093   \n",
       "chest_pain       0.094444  0.044421    0.295762        -0.394280  -0.149230   \n",
       "restbp           0.177531 -0.114103   -0.046698         0.067616   0.193216   \n",
       "cholestoral      0.013294 -0.151040   -0.009940         0.067023   0.053952   \n",
       "high_fbs         1.000000 -0.084189   -0.008567         0.025665   0.005747   \n",
       "EKG             -0.084189  1.000000    0.044123        -0.070733  -0.058770   \n",
       "thalachmax      -0.008567  0.044123    1.000000        -0.378812  -0.344187   \n",
       "angina_exercise  0.025665 -0.070733   -0.378812         1.000000   0.288223   \n",
       "oldpeakST        0.005747 -0.058770   -0.344187         0.288223   1.000000   \n",
       "slope           -0.059894  0.093045    0.386784        -0.257748  -0.577537   \n",
       "flouroscopy      0.137979 -0.072042   -0.213177         0.115739   0.222682   \n",
       "thal            -0.032019 -0.011981   -0.096439         0.206754   0.210244   \n",
       "response        -0.028046  0.137230    0.421741        -0.436757  -0.430696   \n",
       "\n",
       "                    slope  flouroscopy      thal  response  \n",
       "age             -0.168814     0.276326  0.068001 -0.225439  \n",
       "gender          -0.030711     0.118261  0.210041 -0.280937  \n",
       "chest_pain       0.119717    -0.181053 -0.161736  0.433798  \n",
       "restbp          -0.121475     0.101389  0.062210 -0.144931  \n",
       "cholestoral     -0.004038     0.070511  0.098803 -0.085239  \n",
       "high_fbs        -0.059894     0.137979 -0.032019 -0.028046  \n",
       "EKG              0.093045    -0.072042 -0.011981  0.137230  \n",
       "thalachmax       0.386784    -0.213177 -0.096439  0.421741  \n",
       "angina_exercise -0.257748     0.115739  0.206754 -0.436757  \n",
       "oldpeakST       -0.577537     0.222682  0.210244 -0.430696  \n",
       "slope            1.000000    -0.080155 -0.104764  0.345877  \n",
       "flouroscopy     -0.080155     1.000000  0.151832 -0.391724  \n",
       "thal            -0.104764     0.151832  1.000000 -0.344029  \n",
       "response         0.345877    -0.391724 -0.344029  1.000000  "
      ]
     },
     "execution_count": 13,
     "metadata": {},
     "output_type": "execute_result"
    }
   ],
   "source": [
    "corr = df[['age', 'gender', 'chest_pain', 'restbp', 'cholestoral', 'high_fbs',\n",
    "           'EKG', 'thalachmax', 'angina_exercise', 'oldpeakST', 'slope', 'flouroscopy', 'thal',\n",
    "           'response']].corr()\n",
    "corr"
   ]
  },
  {
   "cell_type": "code",
   "execution_count": 33,
   "metadata": {},
   "outputs": [
    {
     "data": {
      "image/png": "[encoded data removed]",
      "text/plain": [
       "<Figure size 864x576 with 2 Axes>"
      ]
     },
     "metadata": {
      "needs_background": "light"
     },
     "output_type": "display_data"
    }
   ],
   "source": [
    "import seaborn as sns\n",
    "\n",
    "f, ax = pp.subplots(figsize=(12, 8))\n",
    "corr_features = sns.heatmap(corr, mask = np.zeros_like(corr, dtype=np.bool),\n",
    "                            vmin = -1, vmax = 1,\n",
    "                            cmap=sns.diverging_palette(220, 10, as_cmap=True),\n",
    "                            square=True, ax=ax, linewidths=1,\n",
    "                            cbar_kws={\"shrink\": .5}, alpha = 0.75)"
   ]
  },
  {
   "cell_type": "markdown",
   "metadata": {},
   "source": [
    "I could also cluster the correlations, such that similar values are closer to each other. Having these clusters make it easier to inspect correlated features, which can be taken into account when deciding which features to include in the model to avoid multicollinearity."
   ]
  },
  {
   "cell_type": "code",
   "execution_count": 39,
   "metadata": {},
   "outputs": [
    {
     "data": {
      "image/png": "[encoded data removed]",
      "text/plain": [
       "<Figure size 720x720 with 4 Axes>"
      ]
     },
     "metadata": {
      "needs_background": "light"
     },
     "output_type": "display_data"
    }
   ],
   "source": [
    "corr_clusters = sns.clustermap(corr, cmap=sns.diverging_palette(220, 10, as_cmap=True),\n",
    "                               vmin = -1, vmax = 1,\n",
    "                               square=True, linewidths=1, alpha = 0.75)"
   ]
  },
  {
   "cell_type": "markdown",
   "metadata": {},
   "source": [
    "**Intermediate Conclusion 4:**  \n",
    "Many of the features are moderately correlated with each other. This redundant information may negatively affect the fit of linear models. I am thinking to use logistic regression to predict the presence of heart disease in this data set. Therefore, I will see if I can use Recursive Feature Elimination to extract the most important predictors of heart disease.  \n",
    "  \n",
    "1. First, I will try to fit a logistic regression using the complete feature space.  \n",
    "  \n",
    "2. Second, I will try to reduce the number of features (to make the model potentially easier to interpet, as well as improve the model fit).  \n",
    "    \n",
    "*Recursive Feature Elimination is a feature selection algorithm commonly used in linear models. It works by iteratilvely eliminating features which bring least weight (smalled coefficient) in the specified type of regression model.*"
   ]
  },
  {
   "cell_type": "markdown",
   "metadata": {},
   "source": [
    "**Implementation of Logistic Regression:**  \n",
    "* Y-variable (response) is heart disease (HD), with 1 standing for the presence of HD, and 0 stading for the absence of HD.  \n",
    "* X is the matrix of predictors, includes all other features provided (13 features, n = 303)"
   ]
  },
  {
   "cell_type": "markdown",
   "metadata": {},
   "source": [
    "**Creating Dummy Variables:**  \n",
    "For logistic regression to fit properly, first categorical variables need to me dummy-coded. These variables are gender, high-fbs, and angina_exercise. To avoid multicollinearity, we will remove redundant information by dropping one dummy-coded variable from each of the groups. I'll drop the variables for 0's, and leave the variables for 1's. Which means that 1 codes for 'male' in gender_1 dummy, '> 120 mg/dl' for high_fbs_1, and 'yes' for the presence of induced angina in 'angina_exercise_1'."
   ]
  },
  {
   "cell_type": "code",
   "execution_count": 15,
   "metadata": {},
   "outputs": [],
   "source": [
    "# Getting dummies for categorical variables:\n",
    "df_dummies = pd.get_dummies(df, columns = ['gender', 'high_fbs', 'angina_exercise'])"
   ]
  },
  {
   "cell_type": "code",
   "execution_count": 16,
   "metadata": {},
   "outputs": [],
   "source": [
    "df_dummies = df_dummies.drop(labels = ['gender_0', 'high_fbs_0', 'angina_exercise_0'],\n",
    "                             axis = 1)"
   ]
  },
  {
   "cell_type": "code",
   "execution_count": 17,
   "metadata": {},
   "outputs": [
    {
     "data": {
      "text/html": [
       "<div>\n",
       "<style scoped>\n",
       "    .dataframe tbody tr th:only-of-type {\n",
       "        vertical-align: middle;\n",
       "    }\n",
       "\n",
       "    .dataframe tbody tr th {\n",
       "        vertical-align: top;\n",
       "    }\n",
       "\n",
       "    .dataframe thead th {\n",
       "        text-align: right;\n",
       "    }\n",
       "</style>\n",
       "<table border=\"1\" class=\"dataframe\">\n",
       "  <thead>\n",
       "    <tr style=\"text-align: right;\">\n",
       "      <th></th>\n",
       "      <th>age</th>\n",
       "      <th>chest_pain</th>\n",
       "      <th>restbp</th>\n",
       "      <th>cholestoral</th>\n",
       "      <th>EKG</th>\n",
       "      <th>thalachmax</th>\n",
       "      <th>oldpeakST</th>\n",
       "      <th>slope</th>\n",
       "      <th>flouroscopy</th>\n",
       "      <th>thal</th>\n",
       "      <th>response</th>\n",
       "      <th>gender_1</th>\n",
       "      <th>high_fbs_1</th>\n",
       "      <th>angina_exercise_1</th>\n",
       "    </tr>\n",
       "  </thead>\n",
       "  <tbody>\n",
       "    <tr>\n",
       "      <th>0</th>\n",
       "      <td>63</td>\n",
       "      <td>3</td>\n",
       "      <td>145</td>\n",
       "      <td>233</td>\n",
       "      <td>0</td>\n",
       "      <td>150</td>\n",
       "      <td>2.3</td>\n",
       "      <td>0</td>\n",
       "      <td>0</td>\n",
       "      <td>1</td>\n",
       "      <td>1</td>\n",
       "      <td>1</td>\n",
       "      <td>1</td>\n",
       "      <td>0</td>\n",
       "    </tr>\n",
       "    <tr>\n",
       "      <th>1</th>\n",
       "      <td>37</td>\n",
       "      <td>2</td>\n",
       "      <td>130</td>\n",
       "      <td>250</td>\n",
       "      <td>1</td>\n",
       "      <td>187</td>\n",
       "      <td>3.5</td>\n",
       "      <td>0</td>\n",
       "      <td>0</td>\n",
       "      <td>2</td>\n",
       "      <td>1</td>\n",
       "      <td>1</td>\n",
       "      <td>0</td>\n",
       "      <td>0</td>\n",
       "    </tr>\n",
       "    <tr>\n",
       "      <th>2</th>\n",
       "      <td>41</td>\n",
       "      <td>1</td>\n",
       "      <td>130</td>\n",
       "      <td>204</td>\n",
       "      <td>0</td>\n",
       "      <td>172</td>\n",
       "      <td>1.4</td>\n",
       "      <td>2</td>\n",
       "      <td>0</td>\n",
       "      <td>2</td>\n",
       "      <td>1</td>\n",
       "      <td>0</td>\n",
       "      <td>0</td>\n",
       "      <td>0</td>\n",
       "    </tr>\n",
       "    <tr>\n",
       "      <th>3</th>\n",
       "      <td>56</td>\n",
       "      <td>1</td>\n",
       "      <td>120</td>\n",
       "      <td>236</td>\n",
       "      <td>1</td>\n",
       "      <td>178</td>\n",
       "      <td>0.8</td>\n",
       "      <td>2</td>\n",
       "      <td>0</td>\n",
       "      <td>2</td>\n",
       "      <td>1</td>\n",
       "      <td>1</td>\n",
       "      <td>0</td>\n",
       "      <td>0</td>\n",
       "    </tr>\n",
       "    <tr>\n",
       "      <th>4</th>\n",
       "      <td>57</td>\n",
       "      <td>0</td>\n",
       "      <td>120</td>\n",
       "      <td>354</td>\n",
       "      <td>1</td>\n",
       "      <td>163</td>\n",
       "      <td>0.6</td>\n",
       "      <td>2</td>\n",
       "      <td>0</td>\n",
       "      <td>2</td>\n",
       "      <td>1</td>\n",
       "      <td>0</td>\n",
       "      <td>0</td>\n",
       "      <td>1</td>\n",
       "    </tr>\n",
       "  </tbody>\n",
       "</table>\n",
       "</div>"
      ],
      "text/plain": [
       "   age  chest_pain  restbp  cholestoral  EKG  thalachmax  oldpeakST  slope  \\\n",
       "0   63           3     145          233    0         150        2.3      0   \n",
       "1   37           2     130          250    1         187        3.5      0   \n",
       "2   41           1     130          204    0         172        1.4      2   \n",
       "3   56           1     120          236    1         178        0.8      2   \n",
       "4   57           0     120          354    1         163        0.6      2   \n",
       "\n",
       "   flouroscopy  thal  response  gender_1  high_fbs_1  angina_exercise_1  \n",
       "0            0     1         1         1           1                  0  \n",
       "1            0     2         1         1           0                  0  \n",
       "2            0     2         1         0           0                  0  \n",
       "3            0     2         1         1           0                  0  \n",
       "4            0     2         1         0           0                  1  "
      ]
     },
     "execution_count": 17,
     "metadata": {},
     "output_type": "execute_result"
    }
   ],
   "source": [
    "df_dummies.head(5)"
   ]
  },
  {
   "cell_type": "markdown",
   "metadata": {},
   "source": [
    "Let's create the X matrix of predictors and the y vector of response:"
   ]
  },
  {
   "cell_type": "code",
   "execution_count": 18,
   "metadata": {},
   "outputs": [],
   "source": [
    "X = df_dummies[['age', 'chest_pain', 'restbp',\n",
    "        'cholestoral', 'EKG', 'thalachmax', 'oldpeakST', 'slope', 'flouroscopy',\n",
    "        'thal', 'gender_1', 'high_fbs_1', 'angina_exercise_1']]\n",
    "y = df_dummies['response']"
   ]
  },
  {
   "cell_type": "markdown",
   "metadata": {},
   "source": [
    "**Testing and Training Data Sets:**  \n",
    "An important step that we will need to do later is validate the model. This could be done on a testing data set. Therefore, I would like to split the data into a training (80% of the data) and test (the remaining 20% of the data) sets. The training set will be used to train the model, while the test set will be used to assess the model performance on data it hasn't previously seen."
   ]
  },
  {
   "cell_type": "code",
   "execution_count": 19,
   "metadata": {},
   "outputs": [],
   "source": [
    "from sklearn.model_selection import train_test_split\n",
    "\n",
    "X_train, X_test, y_train, y_test = train_test_split(X, y, test_size=0.2,\n",
    "                                                    random_state=0)"
   ]
  },
  {
   "cell_type": "markdown",
   "metadata": {},
   "source": [
    "**Fitting the Model Using the Training Set:**  \n",
    "First, I will initialize a LogisticRegression object and then fit a logistic regression model using previously randomly sampled training set."
   ]
  },
  {
   "cell_type": "code",
   "execution_count": 20,
   "metadata": {},
   "outputs": [
    {
     "name": "stderr",
     "output_type": "stream",
     "text": [
      "/Users/Georgiy/anaconda3/envs/insight/lib/python3.7/site-packages/sklearn/linear_model/logistic.py:433: FutureWarning: Default solver will be changed to 'lbfgs' in 0.22. Specify a solver to silence this warning.\n",
      "  FutureWarning)\n"
     ]
    },
    {
     "data": {
      "text/plain": [
       "LogisticRegression(C=1.0, class_weight=None, dual=False, fit_intercept=True,\n",
       "          intercept_scaling=1, max_iter=100, multi_class='warn',\n",
       "          n_jobs=None, penalty='l2', random_state=None, solver='warn',\n",
       "          tol=0.0001, verbose=0, warm_start=False)"
      ]
     },
     "execution_count": 20,
     "metadata": {},
     "output_type": "execute_result"
    }
   ],
   "source": [
    "from sklearn.linear_model import LogisticRegression\n",
    "\n",
    "regressor = LogisticRegression()\n",
    "regressor.fit(X_train, y_train)"
   ]
  },
  {
   "cell_type": "markdown",
   "metadata": {},
   "source": [
    "Second, now that the model has been created, I will use it to make predictions of y (Heart Diseases) on the testing set:"
   ]
  },
  {
   "cell_type": "code",
   "execution_count": 21,
   "metadata": {},
   "outputs": [],
   "source": [
    "y_pred = regressor.predict(X_test)"
   ]
  },
  {
   "cell_type": "markdown",
   "metadata": {},
   "source": [
    "Third, let's create table comparing the actual and predicted outcomes, and look at the first ten observations. Remember, the training and testing split was based on random sampling without replacement, so the indices here aren't ordered:"
   ]
  },
  {
   "cell_type": "code",
   "execution_count": 22,
   "metadata": {},
   "outputs": [
    {
     "data": {
      "text/html": [
       "<div>\n",
       "<style scoped>\n",
       "    .dataframe tbody tr th:only-of-type {\n",
       "        vertical-align: middle;\n",
       "    }\n",
       "\n",
       "    .dataframe tbody tr th {\n",
       "        vertical-align: top;\n",
       "    }\n",
       "\n",
       "    .dataframe thead th {\n",
       "        text-align: right;\n",
       "    }\n",
       "</style>\n",
       "<table border=\"1\" class=\"dataframe\">\n",
       "  <thead>\n",
       "    <tr style=\"text-align: right;\">\n",
       "      <th></th>\n",
       "      <th>Actual</th>\n",
       "      <th>Predicted</th>\n",
       "    </tr>\n",
       "  </thead>\n",
       "  <tbody>\n",
       "    <tr>\n",
       "      <th>225</th>\n",
       "      <td>0</td>\n",
       "      <td>0</td>\n",
       "    </tr>\n",
       "    <tr>\n",
       "      <th>152</th>\n",
       "      <td>1</td>\n",
       "      <td>1</td>\n",
       "    </tr>\n",
       "    <tr>\n",
       "      <th>228</th>\n",
       "      <td>0</td>\n",
       "      <td>1</td>\n",
       "    </tr>\n",
       "    <tr>\n",
       "      <th>201</th>\n",
       "      <td>0</td>\n",
       "      <td>0</td>\n",
       "    </tr>\n",
       "    <tr>\n",
       "      <th>52</th>\n",
       "      <td>1</td>\n",
       "      <td>0</td>\n",
       "    </tr>\n",
       "    <tr>\n",
       "      <th>245</th>\n",
       "      <td>0</td>\n",
       "      <td>0</td>\n",
       "    </tr>\n",
       "    <tr>\n",
       "      <th>175</th>\n",
       "      <td>0</td>\n",
       "      <td>0</td>\n",
       "    </tr>\n",
       "    <tr>\n",
       "      <th>168</th>\n",
       "      <td>0</td>\n",
       "      <td>0</td>\n",
       "    </tr>\n",
       "    <tr>\n",
       "      <th>223</th>\n",
       "      <td>0</td>\n",
       "      <td>0</td>\n",
       "    </tr>\n",
       "    <tr>\n",
       "      <th>217</th>\n",
       "      <td>0</td>\n",
       "      <td>0</td>\n",
       "    </tr>\n",
       "  </tbody>\n",
       "</table>\n",
       "</div>"
      ],
      "text/plain": [
       "     Actual  Predicted\n",
       "225       0          0\n",
       "152       1          1\n",
       "228       0          1\n",
       "201       0          0\n",
       "52        1          0\n",
       "245       0          0\n",
       "175       0          0\n",
       "168       0          0\n",
       "223       0          0\n",
       "217       0          0"
      ]
     },
     "execution_count": 22,
     "metadata": {},
     "output_type": "execute_result"
    }
   ],
   "source": [
    "df_pred = pd.DataFrame({'Actual': y_test, 'Predicted': y_pred})\n",
    "df_pred.head(10)"
   ]
  },
  {
   "cell_type": "markdown",
   "metadata": {},
   "source": [
    "**Confusion Matrix:**  \n",
    "The confusion matrix is a useful way to assess logistic regression performance. It can tell us how well the model predicts positive and negative classes (Heard Disease vs No Heart Disease)."
   ]
  },
  {
   "cell_type": "code",
   "execution_count": 23,
   "metadata": {
    "scrolled": true
   },
   "outputs": [
    {
     "data": {
      "text/html": [
       "<div>\n",
       "<style scoped>\n",
       "    .dataframe tbody tr th:only-of-type {\n",
       "        vertical-align: middle;\n",
       "    }\n",
       "\n",
       "    .dataframe tbody tr th {\n",
       "        vertical-align: top;\n",
       "    }\n",
       "\n",
       "    .dataframe thead th {\n",
       "        text-align: right;\n",
       "    }\n",
       "</style>\n",
       "<table border=\"1\" class=\"dataframe\">\n",
       "  <thead>\n",
       "    <tr style=\"text-align: right;\">\n",
       "      <th></th>\n",
       "      <th>Predicted Positive</th>\n",
       "      <th>Predicted Negative</th>\n",
       "    </tr>\n",
       "  </thead>\n",
       "  <tbody>\n",
       "    <tr>\n",
       "      <th>Actual Positive</th>\n",
       "      <td>22</td>\n",
       "      <td>5</td>\n",
       "    </tr>\n",
       "    <tr>\n",
       "      <th>Actual Negative</th>\n",
       "      <td>4</td>\n",
       "      <td>30</td>\n",
       "    </tr>\n",
       "  </tbody>\n",
       "</table>\n",
       "</div>"
      ],
      "text/plain": [
       "                 Predicted Positive  Predicted Negative\n",
       "Actual Positive                  22                   5\n",
       "Actual Negative                   4                  30"
      ]
     },
     "execution_count": 23,
     "metadata": {},
     "output_type": "execute_result"
    }
   ],
   "source": [
    "from sklearn.metrics import confusion_matrix\n",
    "\n",
    "conf_mat = confusion_matrix(y_test, y_pred)\n",
    "conf_mat_df = pd.DataFrame(conf_mat, columns=['Predicted Positive', 'Predicted Negative'],\n",
    "                           index=['Actual Positive', 'Actual Negative'])\n",
    "conf_mat_df.head()"
   ]
  },
  {
   "cell_type": "markdown",
   "metadata": {},
   "source": [
    "From the confusion matrix, we can get the number of true positives (correctly predicted positive values), true negatives (correctly predicted negative values), as well as the false positive and false negatives."
   ]
  },
  {
   "cell_type": "code",
   "execution_count": 24,
   "metadata": {
    "scrolled": false
   },
   "outputs": [
    {
     "name": "stdout",
     "output_type": "stream",
     "text": [
      "# of True Positives = 22\n",
      "# of False Negatives = 5\n",
      "# of False Positives = 4\n",
      "# of True Negatives = 30\n"
     ]
    }
   ],
   "source": [
    "print('# of True Positives = {TP}'.format(TP = conf_mat_df.iloc[0,0]))\n",
    "print('# of False Negatives = {FN}'.format(FN = conf_mat_df.iloc[0,1]))\n",
    "print('# of False Positives = {FP}'.format(FP = conf_mat_df.iloc[1,0]))\n",
    "print('# of True Negatives = {TN}'.format(TN = conf_mat_df.iloc[1,1]))"
   ]
  },
  {
   "cell_type": "markdown",
   "metadata": {},
   "source": [
    "Using the values from the confusion matrix, we could also calculate precision and recall.  \n",
    "Precision is the model's ability to identify positives and not label them as negatives (precision = tp/(tp + fp)).  \n",
    "Recall is calculated as tp/(tp + fn), and it is the model's ability to identify all positive values, which may be hard to do when classes are imbalanced."
   ]
  },
  {
   "cell_type": "code",
   "execution_count": 25,
   "metadata": {},
   "outputs": [
    {
     "name": "stdout",
     "output_type": "stream",
     "text": [
      "\n",
      "               precision    recall  f1-score   support\n",
      "\n",
      "           0       0.85      0.81      0.83        27\n",
      "           1       0.86      0.88      0.87        34\n",
      "\n",
      "   micro avg       0.85      0.85      0.85        61\n",
      "   macro avg       0.85      0.85      0.85        61\n",
      "weighted avg       0.85      0.85      0.85        61\n",
      " \n",
      "\n"
     ]
    }
   ],
   "source": [
    "from sklearn.metrics import classification_report\n",
    "\n",
    "print('\\n', classification_report(y_test, y_pred), '\\n')"
   ]
  },
  {
   "cell_type": "markdown",
   "metadata": {},
   "source": [
    "The mean accuracy and R-squares of the model are:"
   ]
  },
  {
   "cell_type": "code",
   "execution_count": 26,
   "metadata": {},
   "outputs": [
    {
     "name": "stdout",
     "output_type": "stream",
     "text": [
      "Mean Accuracy = 0.85\n"
     ]
    }
   ],
   "source": [
    "mean_accuracy = regressor.score(X_test, y_test)\n",
    "print(f'Mean Accuracy = {mean_accuracy:.2f}')"
   ]
  },
  {
   "cell_type": "markdown",
   "metadata": {},
   "source": [
    "**Response Operating Characteristic Curve:**  \n",
    "The Response Operating Characteristic curve (or the ROC curve), is a useful way to look at model performance. False positive rate is plotted against true positive rate, and provides useful information in choosing the threshold for our model. For example, identifying true positives (Heart Disease) might be very important, and if that's the case, we'd set the threshold lower. The ROC curve will tell what false positive rate would be in at that threshold."
   ]
  },
  {
   "cell_type": "code",
   "execution_count": 41,
   "metadata": {},
   "outputs": [
    {
     "data": {
      "image/png": "[encoded data removed]",
      "text/plain": [
       "<Figure size 720x432 with 1 Axes>"
      ]
     },
     "metadata": {
      "needs_background": "light"
     },
     "output_type": "display_data"
    }
   ],
   "source": [
    "from sklearn.metrics import roc_auc_score\n",
    "from sklearn.metrics import roc_curve\n",
    "\n",
    "logit_roc_auc = roc_auc_score(y_test, regressor.predict(X_test))\n",
    "fpr, tpr, thresholds = roc_curve(y_test, regressor.predict_proba(X_test)[:,1])\n",
    "pp.figure(figsize = (10, 6))\n",
    "pp.plot(fpr, tpr, label='Logistic Regression (area = %0.2f)' % logit_roc_auc, linewidth = '3')\n",
    "pp.plot([0, 1], [0, 1],'r--', linewidth = '2', alpha = 0.5)\n",
    "pp.xlim([0.0, 1.00])\n",
    "pp.ylim([0.0, 1.05])\n",
    "pp.xlabel('False Positive Rate', fontsize = 14)\n",
    "pp.ylabel('True Positive Rate', fontsize = 14)\n",
    "pp.title('\\nReceiver operating characteristic\\n', fontsize = 20)\n",
    "pp.legend(loc=\"lower right\")\n",
    "pp.show()"
   ]
  },
  {
   "cell_type": "code",
   "execution_count": 28,
   "metadata": {},
   "outputs": [
    {
     "name": "stdout",
     "output_type": "stream",
     "text": [
      "R-squared = 0.40\n"
     ]
    }
   ],
   "source": [
    "from sklearn.metrics import r2_score\n",
    "\n",
    "r2 = r2_score(y_test, y_pred)\n",
    "\n",
    "print(f'R-squared = {r2:.2f}')"
   ]
  },
  {
   "cell_type": "markdown",
   "metadata": {},
   "source": [
    "**FINAL CONCLUSIONS AND REMARKS**  \n",
    "\n",
    "**Summary of Model Performance:**  \n",
    "Overall, the current model preformance is fairly good. Its precision is 0.85 and recall of 0.81. The overall accuracy of the model is 0.85, and the R^2 value is 0.40, indicating a fair fit. Although, given the importance of accurately predicting Heart Diseases, I would try to improve model performance. I would start by looking into the methods described below.  \n",
    "  \n",
    "**Next Steps (if I had more time):**  \n",
    "    \n",
    "**1. Dimensionality Reduction**  \n",
    "These performance measures would likely be improved with optimizing the feature space, for example, by excluding some of the correlated features that provide redundant information. Recursive feature elimination is the place where I would start to try to reduce the number of features. However, other methods for dimensionality reduction exist as well (although I am less familiar with them), such as the Principal Component Analysis (PCA).  \n",
    "\n",
    "**2. Inclusion of Interactions**  \n",
    "As opposed to dimentionality reduction, had I had more time, I would also explore the presence of interactions in the data set, and include important interactions in the space of predictors. It is possible that there are some important interactions in these data that would explain even more of the variance in response variable 'y'. After adding the interactions, I would use similar dimentionality reduction techniques described above, to reduce the feature space (so that only important interactions remain in the model, and no overfitting occurs).\n",
    "\n",
    "**3. Dealing with class imbalance**  \n",
    "I would also try to address the slight class imbalance we had in Heart Disease, which would further improve the model, particularly the recall. I would probably try SMOTE (*Synthetic Minority Over-sampling TEchnique*), which would increase the number of Heart Disease data points by synthetizing new rows of data based on the classified Heart Disease rows we already have.\n",
    "\n",
    "**4. Using a Different Model**  \n",
    "Logistic regression, for the type of problem I picked, is a method that boasts clear interpretability. When the underslying assumptions (those that apply to Generalized Linear Models) of this method are met, it is also rigorous. However, if the assumptions are seriously violated, different methods could be tried. For example, Random Forest Classification is known to perform well on features that aren't normalized or scaled, and is is not sensitive to multicollinearity of the predictor variables. If I had more time, I would be curious to compare the performance of  Random Forest Classifier with Logistic Regression. Other classificaions might also be useful, such as Support Vector Machines, although I am much less familiar with those methods at this point."
   ]
  },
  {
   "cell_type": "markdown",
   "metadata": {},
   "source": [
    "**PS:**  \n",
    "Here is *Recursive Feature Elimination (RFE)* code that I used to select features, although I did not get to the stage of building a new model using the features selected through RFE. Just to introduce briefly what it does, you can specify the type of the model (LogisticRegression) in my case, provide X and y, and specify the number of predictors to select from X. The algorithm looks at the weight of each predictor, in an iterative fashion, and picks the top predictors based on the number of predictors we would like to keep. I like this method of dimensionality reduction, as opposed to the PCA, because it preserves the interpretablity of our predictors, which PCA may not."
   ]
  },
  {
   "cell_type": "code",
   "execution_count": 29,
   "metadata": {},
   "outputs": [],
   "source": [
    "import warnings\n",
    "warnings.filterwarnings('ignore') # to supress warnings associated with output of Recursive Feature Elimination."
   ]
  },
  {
   "cell_type": "code",
   "execution_count": 107,
   "metadata": {
    "scrolled": true
   },
   "outputs": [
    {
     "name": "stdout",
     "output_type": "stream",
     "text": [
      "Num Features: 7\n",
      "Selected Features: [False  True False False False False  True  True  True  True  True False\n",
      "  True]\n",
      "Feature Ranking: [5 1 4 7 2 3 1 1 1 1 1 6 1]\n"
     ]
    }
   ],
   "source": [
    "# Feature Extraction with RFE\n",
    "\n",
    "from sklearn.feature_selection import RFE\n",
    "from sklearn.linear_model import LogisticRegression\n",
    "\n",
    "array = df_dummies.values\n",
    "\n",
    "X = array[:,[0,1,2,3,4,5,6,7,8,9,11,12,13]]\n",
    "Y = array[:,10]\n",
    "\n",
    "# feature extraction\n",
    "model = LogisticRegression()\n",
    "rfe = RFE(model, 7) # 5 here is the number of most important features to select from the feature space.\n",
    "fit = rfe.fit(X, Y)\n",
    "\n",
    "print(f'Num Features: {fit.n_features_}')\n",
    "print(f'Selected Features: {fit.support_}')\n",
    "print(f'Feature Ranking: {fit.ranking_}')"
   ]
  },
  {
   "cell_type": "markdown",
   "metadata": {},
   "source": [
    "**PPS:**  \n",
    "Try a logistic regression model with some features excluded based on Recursive Feature Elimination. I ran recursive feature elimination algorithm, trying to reduce the number of features to 7. I was curious to see how the model with 7 and 13 features compare."
   ]
  },
  {
   "cell_type": "markdown",
   "metadata": {},
   "source": [
    "So, X_1 below contains the 7 features with highest importance, based on the results of recursive feature elimination:"
   ]
  },
  {
   "cell_type": "code",
   "execution_count": 119,
   "metadata": {},
   "outputs": [],
   "source": [
    "X_1 = df_dummies[['chest_pain', 'oldpeakST', 'slope', 'flouroscopy',\n",
    "        'thal', 'gender_1', 'angina_exercise_1']]\n",
    "y_1 = df_dummies['response']"
   ]
  },
  {
   "cell_type": "markdown",
   "metadata": {},
   "source": [
    "I split the data into the testing and training sets as before:"
   ]
  },
  {
   "cell_type": "code",
   "execution_count": 120,
   "metadata": {},
   "outputs": [],
   "source": [
    "from sklearn.model_selection import train_test_split\n",
    "\n",
    "X_1_train, X_1_test, y_1_train, y_1_test = train_test_split(X_1, y_1, test_size=0.2,\n",
    "                                                    random_state=0)"
   ]
  },
  {
   "cell_type": "markdown",
   "metadata": {},
   "source": [
    "And train the logistic regression model 'regressor_1':"
   ]
  },
  {
   "cell_type": "code",
   "execution_count": 110,
   "metadata": {},
   "outputs": [
    {
     "data": {
      "text/plain": [
       "LogisticRegression(C=1.0, class_weight=None, dual=False, fit_intercept=True,\n",
       "          intercept_scaling=1, max_iter=100, multi_class='warn',\n",
       "          n_jobs=None, penalty='l2', random_state=None, solver='warn',\n",
       "          tol=0.0001, verbose=0, warm_start=False)"
      ]
     },
     "execution_count": 110,
     "metadata": {},
     "output_type": "execute_result"
    }
   ],
   "source": [
    "from sklearn.linear_model import LogisticRegression\n",
    "\n",
    "regressor_1 = LogisticRegression()\n",
    "regressor_1.fit(X_1_train, y_1_train)"
   ]
  },
  {
   "cell_type": "markdown",
   "metadata": {},
   "source": [
    "Now, let's look at this models performance, and then plot the ROC curves in one plot."
   ]
  },
  {
   "cell_type": "code",
   "execution_count": 121,
   "metadata": {},
   "outputs": [],
   "source": [
    "y_1_pred = regressor_1.predict(X_1_test)"
   ]
  },
  {
   "cell_type": "code",
   "execution_count": 122,
   "metadata": {},
   "outputs": [
    {
     "data": {
      "text/html": [
       "<div>\n",
       "<style scoped>\n",
       "    .dataframe tbody tr th:only-of-type {\n",
       "        vertical-align: middle;\n",
       "    }\n",
       "\n",
       "    .dataframe tbody tr th {\n",
       "        vertical-align: top;\n",
       "    }\n",
       "\n",
       "    .dataframe thead th {\n",
       "        text-align: right;\n",
       "    }\n",
       "</style>\n",
       "<table border=\"1\" class=\"dataframe\">\n",
       "  <thead>\n",
       "    <tr style=\"text-align: right;\">\n",
       "      <th></th>\n",
       "      <th>Actual</th>\n",
       "      <th>Predicted</th>\n",
       "    </tr>\n",
       "  </thead>\n",
       "  <tbody>\n",
       "    <tr>\n",
       "      <th>225</th>\n",
       "      <td>0</td>\n",
       "      <td>0</td>\n",
       "    </tr>\n",
       "    <tr>\n",
       "      <th>152</th>\n",
       "      <td>1</td>\n",
       "      <td>1</td>\n",
       "    </tr>\n",
       "    <tr>\n",
       "      <th>228</th>\n",
       "      <td>0</td>\n",
       "      <td>1</td>\n",
       "    </tr>\n",
       "    <tr>\n",
       "      <th>201</th>\n",
       "      <td>0</td>\n",
       "      <td>0</td>\n",
       "    </tr>\n",
       "    <tr>\n",
       "      <th>52</th>\n",
       "      <td>1</td>\n",
       "      <td>0</td>\n",
       "    </tr>\n",
       "    <tr>\n",
       "      <th>245</th>\n",
       "      <td>0</td>\n",
       "      <td>0</td>\n",
       "    </tr>\n",
       "    <tr>\n",
       "      <th>175</th>\n",
       "      <td>0</td>\n",
       "      <td>0</td>\n",
       "    </tr>\n",
       "    <tr>\n",
       "      <th>168</th>\n",
       "      <td>0</td>\n",
       "      <td>0</td>\n",
       "    </tr>\n",
       "    <tr>\n",
       "      <th>223</th>\n",
       "      <td>0</td>\n",
       "      <td>0</td>\n",
       "    </tr>\n",
       "    <tr>\n",
       "      <th>217</th>\n",
       "      <td>0</td>\n",
       "      <td>0</td>\n",
       "    </tr>\n",
       "  </tbody>\n",
       "</table>\n",
       "</div>"
      ],
      "text/plain": [
       "     Actual  Predicted\n",
       "225       0          0\n",
       "152       1          1\n",
       "228       0          1\n",
       "201       0          0\n",
       "52        1          0\n",
       "245       0          0\n",
       "175       0          0\n",
       "168       0          0\n",
       "223       0          0\n",
       "217       0          0"
      ]
     },
     "execution_count": 122,
     "metadata": {},
     "output_type": "execute_result"
    }
   ],
   "source": [
    "df_1_pred = pd.DataFrame({'Actual': y_1_test, 'Predicted': y_1_pred})\n",
    "df_1_pred.head(10)"
   ]
  },
  {
   "cell_type": "code",
   "execution_count": 123,
   "metadata": {
    "scrolled": true
   },
   "outputs": [
    {
     "data": {
      "text/html": [
       "<div>\n",
       "<style scoped>\n",
       "    .dataframe tbody tr th:only-of-type {\n",
       "        vertical-align: middle;\n",
       "    }\n",
       "\n",
       "    .dataframe tbody tr th {\n",
       "        vertical-align: top;\n",
       "    }\n",
       "\n",
       "    .dataframe thead th {\n",
       "        text-align: right;\n",
       "    }\n",
       "</style>\n",
       "<table border=\"1\" class=\"dataframe\">\n",
       "  <thead>\n",
       "    <tr style=\"text-align: right;\">\n",
       "      <th></th>\n",
       "      <th>Predicted Positive</th>\n",
       "      <th>Predicted Negative</th>\n",
       "    </tr>\n",
       "  </thead>\n",
       "  <tbody>\n",
       "    <tr>\n",
       "      <th>Actual Positive</th>\n",
       "      <td>20</td>\n",
       "      <td>7</td>\n",
       "    </tr>\n",
       "    <tr>\n",
       "      <th>Actual Negative</th>\n",
       "      <td>3</td>\n",
       "      <td>31</td>\n",
       "    </tr>\n",
       "  </tbody>\n",
       "</table>\n",
       "</div>"
      ],
      "text/plain": [
       "                 Predicted Positive  Predicted Negative\n",
       "Actual Positive                  20                   7\n",
       "Actual Negative                   3                  31"
      ]
     },
     "execution_count": 123,
     "metadata": {},
     "output_type": "execute_result"
    }
   ],
   "source": [
    "from sklearn.metrics import confusion_matrix\n",
    "\n",
    "conf_mat_1 = confusion_matrix(y_1_test, y_1_pred)\n",
    "conf_mat_df_1 = pd.DataFrame(conf_mat_1, columns=['Predicted Positive', 'Predicted Negative'],\n",
    "                           index=['Actual Positive', 'Actual Negative'])\n",
    "conf_mat_df_1.head()"
   ]
  },
  {
   "cell_type": "code",
   "execution_count": 124,
   "metadata": {
    "scrolled": false
   },
   "outputs": [
    {
     "name": "stdout",
     "output_type": "stream",
     "text": [
      "# of True Positives = 20\n",
      "# of False Negatives = 7\n",
      "# of False Positives = 3\n",
      "# of True Negatives = 31\n"
     ]
    }
   ],
   "source": [
    "print('# of True Positives = {TP}'.format(TP = conf_mat_df_1.iloc[0,0]))\n",
    "print('# of False Negatives = {FN}'.format(FN = conf_mat_df_1.iloc[0,1]))\n",
    "print('# of False Positives = {FP}'.format(FP = conf_mat_df_1.iloc[1,0]))\n",
    "print('# of True Negatives = {TN}'.format(TN = conf_mat_df_1.iloc[1,1]))"
   ]
  },
  {
   "cell_type": "code",
   "execution_count": 125,
   "metadata": {},
   "outputs": [
    {
     "name": "stdout",
     "output_type": "stream",
     "text": [
      "\n",
      "               precision    recall  f1-score   support\n",
      "\n",
      "           0       0.87      0.74      0.80        27\n",
      "           1       0.82      0.91      0.86        34\n",
      "\n",
      "   micro avg       0.84      0.84      0.84        61\n",
      "   macro avg       0.84      0.83      0.83        61\n",
      "weighted avg       0.84      0.84      0.83        61\n",
      " \n",
      "\n"
     ]
    }
   ],
   "source": [
    "from sklearn.metrics import classification_report\n",
    "\n",
    "print('\\n', classification_report(y_1_test, y_1_pred), '\\n')"
   ]
  },
  {
   "cell_type": "markdown",
   "metadata": {},
   "source": [
    "**Intermediate Conclusion:**  \n",
    "Removing 6 features based on the results of Recursive Feature Elimination improved the precision of our model, however, the recall decreased, as well as the overall performance of the model as indicated by a small drop in f1 score. However, if we did want to optimize for precision, the results of the second model would be more useful."
   ]
  },
  {
   "cell_type": "code",
   "execution_count": 126,
   "metadata": {},
   "outputs": [
    {
     "name": "stdout",
     "output_type": "stream",
     "text": [
      "Mean Accuracy = 0.84\n"
     ]
    }
   ],
   "source": [
    "mean_accuracy_1 = regressor_1.score(X_1_test, y_1_test)\n",
    "print(f'Mean Accuracy = {mean_accuracy_1:.2f}')"
   ]
  },
  {
   "cell_type": "code",
   "execution_count": 127,
   "metadata": {},
   "outputs": [
    {
     "data": {
      "image/png": "[encoded data removed]",
      "text/plain": [
       "<Figure size 720x432 with 1 Axes>"
      ]
     },
     "metadata": {
      "needs_background": "light"
     },
     "output_type": "display_data"
    }
   ],
   "source": [
    "from sklearn.metrics import roc_auc_score\n",
    "from sklearn.metrics import roc_curve\n",
    "\n",
    "logit_roc_auc = roc_auc_score(y_test, regressor.predict(X_test))\n",
    "logit_roc_auc_1 = roc_auc_score(y_1_test, regressor_1.predict(X_1_test))\n",
    "\n",
    "fpr, tpr, thresholds = roc_curve(y_test, regressor.predict_proba(X_test)[:,1])\n",
    "fpr_1, tpr_1, thresholds_1 = roc_curve(y_1_test, regressor_1.predict_proba(X_1_test)[:,1])\n",
    "\n",
    "pp.figure(figsize = (10, 6))\n",
    "\n",
    "pp.plot(fpr, tpr, label='Logistic Regression (area = %0.2f)' % logit_roc_auc, linewidth = '3')\n",
    "pp.plot(fpr_1, tpr_1, label='Logistic Regression 2 (area = %0.2f)' % logit_roc_auc_1, linewidth = '3', alpha = 0.75)\n",
    "\n",
    "\n",
    "pp.plot([0, 1], [0, 1],'r--', linewidth = '2', alpha = 0.5)\n",
    "pp.xlim([0.0, 1.00])\n",
    "pp.ylim([0.0, 1.05])\n",
    "pp.xlabel('False Positive Rate', fontsize = 14)\n",
    "pp.ylabel('True Positive Rate', fontsize = 14)\n",
    "pp.title('\\nReceiver operating characteristic\\n', fontsize = 20)\n",
    "pp.legend(loc=\"lower right\")\n",
    "pp.show()"
   ]
  },
  {
   "cell_type": "code",
   "execution_count": 128,
   "metadata": {},
   "outputs": [
    {
     "name": "stdout",
     "output_type": "stream",
     "text": [
      "R-squared = 0.34\n"
     ]
    }
   ],
   "source": [
    "from sklearn.metrics import r2_score\n",
    "\n",
    "r2_1 = r2_score(y_1_test, y_1_pred)\n",
    "\n",
    "print(f'R-squared = {r2_1:.2f}')"
   ]
  },
  {
   "cell_type": "markdown",
   "metadata": {},
   "source": [
    "The slight improvement in precision is noticeable when we compare blue and orange ROC curves. For example, at a love false positive rate (about 0.05), we get roughly a 20% improvement  in correctly identifying true positives.If this result was important to us, we could use the second model. Otherwise, I prefer the first model because of its overall better performance."
   ]
  },
  {
   "cell_type": "code",
   "execution_count": null,
   "metadata": {},
   "outputs": [],
   "source": []
  }
 ],
 "metadata": {
  "kernelspec": {
   "display_name": "Python 3",
   "language": "python",
   "name": "python3"
  },
  "language_info": {
   "codemirror_mode": {
    "name": "ipython",
    "version": 3
   },
   "file_extension": ".py",
   "mimetype": "text/x-python",
   "name": "python",
   "nbconvert_exporter": "python",
   "pygments_lexer": "ipython3",
   "version": "3.7.2"
  }
 },
 "nbformat": 4,
 "nbformat_minor": 2
}
